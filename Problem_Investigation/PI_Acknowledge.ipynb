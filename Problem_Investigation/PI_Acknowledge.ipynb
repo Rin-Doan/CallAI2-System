{
 "cells": [
  {
   "cell_type": "code",
   "execution_count": 1,
   "id": "ac8dfe1b-f8e3-4089-bb55-448b200e945c",
   "metadata": {},
   "outputs": [
    {
     "name": "stderr",
     "output_type": "stream",
     "text": [
      "/var/folders/td/w85k3fwn2nn5xffjktw34x_m0000gn/T/ipykernel_69982/3234418963.py:1: DeprecationWarning: Importing display from IPython.core.display is deprecated since IPython 7.14, please import from IPython.display\n",
      "  from IPython.core.display import display, HTML\n"
     ]
    },
    {
     "data": {
      "text/html": [
       "<style>.container { width:85% !important; }</style>"
      ],
      "text/plain": [
       "<IPython.core.display.HTML object>"
      ]
     },
     "metadata": {},
     "output_type": "display_data"
    },
    {
     "name": "stdout",
     "output_type": "stream",
     "text": [
      "/Users/tuongdoanvanngoc/Documents/Y3T3/378/AMS-Project/callai2/MyProject\n"
     ]
    }
   ],
   "source": [
    "from IPython.core.display import display, HTML\n",
    "display(HTML(\"<style>.container { width:85% !important; }</style>\"))\n",
    "\n",
    "import numpy as np\n",
    "import pandas as pd\n",
    "import matplotlib.pyplot as plt\n",
    "import seaborn as sns\n",
    "import random\n",
    "\n",
    "from sklearn.model_selection import train_test_split\n",
    "from sklearn.metrics import mean_squared_error, accuracy_score, confusion_matrix, zero_one_loss\n",
    "from sklearn.preprocessing import LabelEncoder, OneHotEncoder\n",
    "\n",
    "# from sklearn.metrics import plot_confusion_matrix\n",
    "from sklearn.metrics import ConfusionMatrixDisplay\n",
    "\n",
    "import os\n",
    "import tensorflow\n",
    "import tensorflow as tf\n",
    "from tensorflow import keras\n",
    "\n",
    "import tensorflow_docs as tfdocs\n",
    "import tensorflow_docs.plots\n",
    "import tensorflow_docs.modeling\n",
    "\n",
    "from tensorflow.keras import layers\n",
    "from tensorflow.keras.layers import Layer, Add, InputSpec, Input, BatchNormalization, Dropout,Conv2D, Conv2DTranspose,AveragePooling2D, MaxPooling2D,Dense, Flatten, Reshape, Concatenate, Embedding, Lambda\n",
    "\n",
    "import tensorflow.keras.backend as K\n",
    "from tensorflow.keras.utils import to_categorical\n",
    "from sklearn.metrics import classification_report\n",
    "from tensorflow.keras import regularizers\n",
    "from tensorflow.keras.callbacks import EarlyStopping\n",
    "from tensorflow.keras.regularizers import l2\n",
    "from tensorflow.keras.layers import Dropout\n",
    "from TAABLM_mechanism import GlobalContextLayer, AttentionMechanism, custom_objects\n",
    "\n",
    "from sklearn.feature_extraction.text import TfidfVectorizer\n",
    "from tensorflow.keras.models import Model\n",
    "from tensorflow.keras.optimizers import Adam\n",
    "from tensorflow.keras.callbacks import LambdaCallback\n",
    "from tensorflow.keras.initializers import RandomNormal\n",
    "\n",
    "!pwd"
   ]
  },
  {
   "cell_type": "code",
   "execution_count": 2,
   "id": "26a136e4-e916-4aa6-a29e-2d2978f2d791",
   "metadata": {},
   "outputs": [],
   "source": [
    "from TAABLM_mechanism import GlobalContextLayer, AttentionMechanism, custom_objects\n",
    "from Preprocessing_Data import load_and_preprocess_data, preprocess_texts, load_glove_embeddings"
   ]
  },
  {
   "cell_type": "code",
   "execution_count": 3,
   "id": "f7408266-75eb-46c0-b394-0a922740b203",
   "metadata": {},
   "outputs": [],
   "source": [
    "# datapath = data_dir + 'CallAIDataCorpus2.csv'\n",
    "datapath = 'data/InvestigationProblem_subsection.csv'\n",
    "\n",
    "data,texts, unique_labels = load_and_preprocess_data(datapath)"
   ]
  },
  {
   "cell_type": "code",
   "execution_count": 4,
   "id": "631a4d86-2871-4af7-b49b-681970cbabab",
   "metadata": {},
   "outputs": [],
   "source": [
    "# Preprocess texts\n",
    "padded_sequences, tokenizer, X_tfidf, word_index, index_word = preprocess_texts(texts)\n",
    "\n",
    "# Load GloVe embeddings\n",
    "embedding_dim = 50\n",
    "vocab_size = 10000\n",
    "max_seq_len=100\n",
    "\n",
    "embedding_matrix = load_glove_embeddings(vocab_size, embedding_dim, word_index)"
   ]
  },
  {
   "cell_type": "code",
   "execution_count": 6,
   "id": "46fd797b-6c85-40d8-a187-8bde8de56786",
   "metadata": {},
   "outputs": [],
   "source": [
    "# Assuming data['Text'], data['Category'], and tf_idf_tensor are available\n",
    "X_train, X_test, y_train, y_test = train_test_split(\n",
    "    padded_sequences, data['Acknowledge customer’s frustration or emotions'], test_size=0.2, random_state=42\n",
    ")\n",
    "\n",
    "# Split tf_idf_tensor separately to align with X_train and X_test\n",
    "X_tfidf_train, X_tfidf_test = train_test_split(\n",
    "    X_tfidf, test_size=0.2, random_state=42\n",
    ")"
   ]
  },
  {
   "cell_type": "code",
   "execution_count": 7,
   "id": "8872fffd-1ee1-449d-895d-22a9d3fe6934",
   "metadata": {},
   "outputs": [
    {
     "name": "stderr",
     "output_type": "stream",
     "text": [
      "2024-12-04 17:09:56.762554: I metal_plugin/src/device/metal_device.cc:1154] Metal device set to: Apple M1\n",
      "2024-12-04 17:09:56.762790: I metal_plugin/src/device/metal_device.cc:296] systemMemory: 8.00 GB\n",
      "2024-12-04 17:09:56.762803: I metal_plugin/src/device/metal_device.cc:313] maxCacheSize: 2.67 GB\n",
      "2024-12-04 17:09:56.763410: I tensorflow/core/common_runtime/pluggable_device/pluggable_device_factory.cc:305] Could not identify NUMA node of platform GPU ID 0, defaulting to 0. Your kernel may not have been built with NUMA support.\n",
      "2024-12-04 17:09:56.763941: I tensorflow/core/common_runtime/pluggable_device/pluggable_device_factory.cc:271] Created TensorFlow device (/job:localhost/replica:0/task:0/device:GPU:0 with 0 MB memory) -> physical PluggableDevice (device: 0, name: METAL, pci bus id: <undefined>)\n"
     ]
    },
    {
     "name": "stdout",
     "output_type": "stream",
     "text": [
      "Epoch 1/20\n"
     ]
    },
    {
     "name": "stderr",
     "output_type": "stream",
     "text": [
      "/opt/miniconda3/envs/gpu/lib/python3.10/site-packages/keras/src/models/functional.py:225: UserWarning: The structure of `inputs` doesn't match the expected structure: ['input_sentence', 'input_tfidf']. Received: the structure of inputs=('*', '*')\n",
      "  warnings.warn(\n",
      "2024-12-04 17:09:58.416376: I tensorflow/core/grappler/optimizers/custom_graph_optimizer_registry.cc:117] Plugin optimizer for device_type GPU is enabled.\n"
     ]
    },
    {
     "name": "stdout",
     "output_type": "stream",
     "text": [
      "\u001b[1m25/25\u001b[0m \u001b[32m━━━━━━━━━━━━━━━━━━━━\u001b[0m\u001b[37m\u001b[0m \u001b[1m15s\u001b[0m 235ms/step - accuracy: 0.3233 - loss: 3.5103 - val_accuracy: 0.6429 - val_loss: 2.6469\n",
      "Epoch 2/20\n",
      "\u001b[1m25/25\u001b[0m \u001b[32m━━━━━━━━━━━━━━━━━━━━\u001b[0m\u001b[37m\u001b[0m \u001b[1m1s\u001b[0m 26ms/step - accuracy: 0.6757 - loss: 2.1267 - val_accuracy: 0.6224 - val_loss: 1.9141\n",
      "Epoch 3/20\n",
      "\u001b[1m25/25\u001b[0m \u001b[32m━━━━━━━━━━━━━━━━━━━━\u001b[0m\u001b[37m\u001b[0m \u001b[1m1s\u001b[0m 25ms/step - accuracy: 0.7212 - loss: 1.3534 - val_accuracy: 0.7551 - val_loss: 1.4883\n",
      "Epoch 4/20\n",
      "\u001b[1m25/25\u001b[0m \u001b[32m━━━━━━━━━━━━━━━━━━━━\u001b[0m\u001b[37m\u001b[0m \u001b[1m1s\u001b[0m 24ms/step - accuracy: 0.7643 - loss: 1.0382 - val_accuracy: 0.7857 - val_loss: 1.2569\n",
      "Epoch 5/20\n",
      "\u001b[1m25/25\u001b[0m \u001b[32m━━━━━━━━━━━━━━━━━━━━\u001b[0m\u001b[37m\u001b[0m \u001b[1m1s\u001b[0m 25ms/step - accuracy: 0.7393 - loss: 0.8489 - val_accuracy: 0.7551 - val_loss: 1.1167\n",
      "Epoch 6/20\n",
      "\u001b[1m25/25\u001b[0m \u001b[32m━━━━━━━━━━━━━━━━━━━━\u001b[0m\u001b[37m\u001b[0m \u001b[1m1s\u001b[0m 25ms/step - accuracy: 0.7523 - loss: 0.7712 - val_accuracy: 0.7449 - val_loss: 1.0175\n",
      "Epoch 7/20\n",
      "\u001b[1m25/25\u001b[0m \u001b[32m━━━━━━━━━━━━━━━━━━━━\u001b[0m\u001b[37m\u001b[0m \u001b[1m1s\u001b[0m 25ms/step - accuracy: 0.7990 - loss: 0.6624 - val_accuracy: 0.7755 - val_loss: 0.9478\n",
      "Epoch 8/20\n",
      "\u001b[1m25/25\u001b[0m \u001b[32m━━━━━━━━━━━━━━━━━━━━\u001b[0m\u001b[37m\u001b[0m \u001b[1m1s\u001b[0m 24ms/step - accuracy: 0.7802 - loss: 0.7182 - val_accuracy: 0.7653 - val_loss: 0.9057\n",
      "Epoch 9/20\n",
      "\u001b[1m25/25\u001b[0m \u001b[32m━━━━━━━━━━━━━━━━━━━━\u001b[0m\u001b[37m\u001b[0m \u001b[1m1s\u001b[0m 25ms/step - accuracy: 0.7920 - loss: 0.6464 - val_accuracy: 0.7551 - val_loss: 0.8428\n",
      "Epoch 10/20\n",
      "\u001b[1m25/25\u001b[0m \u001b[32m━━━━━━━━━━━━━━━━━━━━\u001b[0m\u001b[37m\u001b[0m \u001b[1m1s\u001b[0m 24ms/step - accuracy: 0.8130 - loss: 0.5847 - val_accuracy: 0.7755 - val_loss: 0.7813\n",
      "Epoch 11/20\n",
      "\u001b[1m25/25\u001b[0m \u001b[32m━━━━━━━━━━━━━━━━━━━━\u001b[0m\u001b[37m\u001b[0m \u001b[1m1s\u001b[0m 25ms/step - accuracy: 0.7921 - loss: 0.5609 - val_accuracy: 0.7449 - val_loss: 0.7464\n",
      "Epoch 12/20\n",
      "\u001b[1m25/25\u001b[0m \u001b[32m━━━━━━━━━━━━━━━━━━━━\u001b[0m\u001b[37m\u001b[0m \u001b[1m1s\u001b[0m 24ms/step - accuracy: 0.8160 - loss: 0.5223 - val_accuracy: 0.7551 - val_loss: 0.7083\n",
      "Epoch 13/20\n",
      "\u001b[1m25/25\u001b[0m \u001b[32m━━━━━━━━━━━━━━━━━━━━\u001b[0m\u001b[37m\u001b[0m \u001b[1m1s\u001b[0m 36ms/step - accuracy: 0.8704 - loss: 0.4626 - val_accuracy: 0.7755 - val_loss: 0.6713\n",
      "Epoch 14/20\n",
      "\u001b[1m25/25\u001b[0m \u001b[32m━━━━━━━━━━━━━━━━━━━━\u001b[0m\u001b[37m\u001b[0m \u001b[1m1s\u001b[0m 25ms/step - accuracy: 0.8855 - loss: 0.4016 - val_accuracy: 0.7653 - val_loss: 0.6431\n",
      "Epoch 15/20\n",
      "\u001b[1m25/25\u001b[0m \u001b[32m━━━━━━━━━━━━━━━━━━━━\u001b[0m\u001b[37m\u001b[0m \u001b[1m1s\u001b[0m 25ms/step - accuracy: 0.8524 - loss: 0.4646 - val_accuracy: 0.7653 - val_loss: 0.6273\n",
      "Epoch 16/20\n",
      "\u001b[1m25/25\u001b[0m \u001b[32m━━━━━━━━━━━━━━━━━━━━\u001b[0m\u001b[37m\u001b[0m \u001b[1m1s\u001b[0m 25ms/step - accuracy: 0.8562 - loss: 0.4041 - val_accuracy: 0.8163 - val_loss: 0.5812\n",
      "Epoch 17/20\n",
      "\u001b[1m25/25\u001b[0m \u001b[32m━━━━━━━━━━━━━━━━━━━━\u001b[0m\u001b[37m\u001b[0m \u001b[1m1s\u001b[0m 25ms/step - accuracy: 0.8696 - loss: 0.4195 - val_accuracy: 0.8061 - val_loss: 0.5562\n",
      "Epoch 18/20\n",
      "\u001b[1m25/25\u001b[0m \u001b[32m━━━━━━━━━━━━━━━━━━━━\u001b[0m\u001b[37m\u001b[0m \u001b[1m1s\u001b[0m 25ms/step - accuracy: 0.8733 - loss: 0.4110 - val_accuracy: 0.8163 - val_loss: 0.5532\n",
      "Epoch 19/20\n",
      "\u001b[1m25/25\u001b[0m \u001b[32m━━━━━━━━━━━━━━━━━━━━\u001b[0m\u001b[37m\u001b[0m \u001b[1m1s\u001b[0m 24ms/step - accuracy: 0.9088 - loss: 0.3622 - val_accuracy: 0.8061 - val_loss: 0.5485\n",
      "Epoch 20/20\n",
      "\u001b[1m25/25\u001b[0m \u001b[32m━━━━━━━━━━━━━━━━━━━━\u001b[0m\u001b[37m\u001b[0m \u001b[1m1s\u001b[0m 26ms/step - accuracy: 0.8935 - loss: 0.3679 - val_accuracy: 0.8265 - val_loss: 0.5227\n",
      "Restoring model weights from the end of the best epoch: 20.\n"
     ]
    }
   ],
   "source": [
    "import tensorflow as tf\n",
    "from tensorflow.keras.models import model_from_json\n",
    "from tensorflow.keras.optimizers import Adam\n",
    "from tensorflow.keras.callbacks import EarlyStopping\n",
    "\n",
    "# Specify the directory containing the saved model files\n",
    "dir_name = 'TAABLM_model'\n",
    "\n",
    "# 1. Load the model architecture from the saved JSON file\n",
    "with open(os.path.join(dir_name, 'TAABLM_Section_architecture.json'), 'r') as json_file:\n",
    "    model_json = json_file.read()\n",
    "\n",
    "# Recreate the model from the JSON string\n",
    "model = model_from_json(model_json)\n",
    "\n",
    "\n",
    "# 3. Compile the model\n",
    "model.compile(optimizer=Adam(learning_rate=0.001), \n",
    "              loss=\"sparse_categorical_crossentropy\", \n",
    "              metrics=[\"accuracy\"])\n",
    "\n",
    "# 4. Define EarlyStopping callback to avoid overfitting\n",
    "early_stopping = EarlyStopping(\n",
    "    monitor=\"val_loss\", patience=3, restore_best_weights=True, verbose=1\n",
    ")\n",
    "\n",
    "# Train the model\n",
    "history = model.fit(\n",
    "    [X_train, X_tfidf_train],  # Training inputs\n",
    "    y_train,                   # Training labels\n",
    "    validation_data=([X_test, X_tfidf_test], y_test),  # Validation inputs and labels\n",
    "    epochs=20,                 # Number of epochs\n",
    "    batch_size=16,             # Batch size\n",
    "    callbacks=[early_stopping]  # Early stopping callback\n",
    ")"
   ]
  },
  {
   "cell_type": "code",
   "execution_count": 8,
   "id": "ea849459-b38a-4952-9557-41c91c431b83",
   "metadata": {},
   "outputs": [
    {
     "name": "stderr",
     "output_type": "stream",
     "text": [
      "WARNING:absl:You are saving your model as an HDF5 file via `model.save()` or `keras.saving.save_model(model)`. This file format is considered legacy. We recommend using instead the native Keras format, e.g. `model.save('my_model.keras')` or `keras.saving.save_model(model, 'my_model.keras')`. \n"
     ]
    }
   ],
   "source": [
    "# Change the directory\n",
    "new_directory = \"TAABLM_model\"\n",
    "os.chdir(new_directory)\n",
    "\n",
    "# Specify the directory to create\n",
    "dir_name = 'Investigation_Problem'  # Replace with your desired path\n",
    "\n",
    "# Create the directory\n",
    "os.makedirs(dir_name, exist_ok=True)\n",
    "model.save(os.path.join(dir_name, 'PI_Acknowledge.h5'))"
   ]
  }
 ],
 "metadata": {
  "kernelspec": {
   "display_name": "Python3.9(GPU)",
   "language": "python",
   "name": "gpu"
  },
  "language_info": {
   "codemirror_mode": {
    "name": "ipython",
    "version": 3
   },
   "file_extension": ".py",
   "mimetype": "text/x-python",
   "name": "python",
   "nbconvert_exporter": "python",
   "pygments_lexer": "ipython3",
   "version": "3.10.15"
  }
 },
 "nbformat": 4,
 "nbformat_minor": 5
}
