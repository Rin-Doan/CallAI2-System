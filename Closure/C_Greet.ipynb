{
 "cells": [
  {
   "cell_type": "code",
   "execution_count": 1,
   "id": "acb4f436-e11d-4c72-9dc3-70b788506473",
   "metadata": {},
   "outputs": [
    {
     "name": "stderr",
     "output_type": "stream",
     "text": [
      "/var/folders/td/w85k3fwn2nn5xffjktw34x_m0000gn/T/ipykernel_84066/4096949599.py:1: DeprecationWarning: Importing display from IPython.core.display is deprecated since IPython 7.14, please import from IPython.display\n",
      "  from IPython.core.display import display, HTML\n"
     ]
    },
    {
     "data": {
      "text/html": [
       "<style>.container { width:85% !important; }</style>"
      ],
      "text/plain": [
       "<IPython.core.display.HTML object>"
      ]
     },
     "metadata": {},
     "output_type": "display_data"
    },
    {
     "name": "stdout",
     "output_type": "stream",
     "text": [
      "/Users/tuongdoanvanngoc/Documents/Y3T3/378/AMS-Project/callai2/MyProject\n"
     ]
    }
   ],
   "source": [
    "from IPython.core.display import display, HTML\n",
    "display(HTML(\"<style>.container { width:85% !important; }</style>\"))\n",
    "\n",
    "import numpy as np\n",
    "import pandas as pd\n",
    "import matplotlib.pyplot as plt\n",
    "import seaborn as sns\n",
    "import random\n",
    "\n",
    "from sklearn.model_selection import train_test_split\n",
    "from sklearn.metrics import mean_squared_error, accuracy_score, confusion_matrix, zero_one_loss\n",
    "from sklearn.preprocessing import LabelEncoder, OneHotEncoder\n",
    "\n",
    "# from sklearn.metrics import plot_confusion_matrix\n",
    "from sklearn.metrics import ConfusionMatrixDisplay\n",
    "\n",
    "import os\n",
    "os.chdir('..')  # Go up one directory level\n",
    "import tensorflow\n",
    "import tensorflow as tf\n",
    "from tensorflow import keras\n",
    "\n",
    "import tensorflow_docs as tfdocs\n",
    "import tensorflow_docs.plots\n",
    "import tensorflow_docs.modeling\n",
    "\n",
    "from tensorflow.keras import layers\n",
    "from tensorflow.keras.layers import Layer, Add, InputSpec, Input, BatchNormalization, Dropout,Conv2D, Conv2DTranspose,AveragePooling2D, MaxPooling2D,Dense, Flatten, Reshape, Concatenate, Embedding, Lambda\n",
    "\n",
    "import tensorflow.keras.backend as K\n",
    "from tensorflow.keras.utils import to_categorical\n",
    "from sklearn.metrics import classification_report\n",
    "from tensorflow.keras import regularizers\n",
    "from tensorflow.keras.callbacks import EarlyStopping\n",
    "from tensorflow.keras.regularizers import l2\n",
    "from tensorflow.keras.layers import Dropout\n",
    "from TAABLM_mechanism import GlobalContextLayer, AttentionMechanism, custom_objects\n",
    "\n",
    "from sklearn.feature_extraction.text import TfidfVectorizer\n",
    "from tensorflow.keras.models import Model\n",
    "from tensorflow.keras.optimizers import Adam\n",
    "from tensorflow.keras.callbacks import LambdaCallback\n",
    "from tensorflow.keras.initializers import RandomNormal\n",
    "\n",
    "!pwd"
   ]
  },
  {
   "cell_type": "code",
   "execution_count": 2,
   "id": "a8f896ca-b62d-44fd-a41e-fce6e1acf943",
   "metadata": {},
   "outputs": [],
   "source": [
    "from TAABLM_mechanism import GlobalContextLayer, AttentionMechanism, custom_objects\n",
    "from Preprocessing_Data import load_and_preprocess_data, preprocess_texts, load_glove_embeddings"
   ]
  },
  {
   "cell_type": "code",
   "execution_count": 3,
   "id": "f5c924de-dfad-4cda-971f-13ac7d33668f",
   "metadata": {},
   "outputs": [],
   "source": [
    "# datapath = data_dir + 'CallAIDataCorpus2.csv'\n",
    "datapath = 'data/Closure_subsection.csv'\n",
    "\n",
    "data,texts, unique_labels = load_and_preprocess_data(datapath)"
   ]
  },
  {
   "cell_type": "code",
   "execution_count": 4,
   "id": "636d090e-f29f-4911-b78f-cb69b1c98019",
   "metadata": {},
   "outputs": [],
   "source": [
    "# Preprocess texts\n",
    "padded_sequences, tokenizer, X_tfidf, word_index, index_word = preprocess_texts(texts)\n",
    "\n",
    "# Load GloVe embeddings\n",
    "embedding_dim = 50\n",
    "vocab_size = 10000\n",
    "max_seq_len=100\n",
    "\n",
    "embedding_matrix = load_glove_embeddings(vocab_size, embedding_dim, word_index)"
   ]
  },
  {
   "cell_type": "code",
   "execution_count": 5,
   "id": "aa5091a4-98f3-43d5-8a8c-3a1fd0c39c05",
   "metadata": {},
   "outputs": [],
   "source": [
    "# Assuming data['Text'], data['Category'], and tf_idf_tensor are available\n",
    "X_train, X_test, y_train, y_test = train_test_split(\n",
    "    padded_sequences, data['Greet farewell to the customers'], test_size=0.2, random_state=42\n",
    ")\n",
    "\n",
    "# Split tf_idf_tensor separately to align with X_train and X_test\n",
    "X_tfidf_train, X_tfidf_test = train_test_split(\n",
    "    X_tfidf, test_size=0.2, random_state=42\n",
    ")"
   ]
  },
  {
   "cell_type": "code",
   "execution_count": 8,
   "id": "dc1e6081-efc7-4242-8b4a-82ad7976243c",
   "metadata": {},
   "outputs": [
    {
     "name": "stdout",
     "output_type": "stream",
     "text": [
      "Epoch 1/20\n",
      "\u001b[1m15/15\u001b[0m \u001b[32m━━━━━━━━━━━━━━━━━━━━\u001b[0m\u001b[37m\u001b[0m \u001b[1m3s\u001b[0m 73ms/step - accuracy: 0.2736 - loss: 3.4885 - val_accuracy: 0.6983 - val_loss: 2.9549\n",
      "Epoch 2/20\n",
      "\u001b[1m15/15\u001b[0m \u001b[32m━━━━━━━━━━━━━━━━━━━━\u001b[0m\u001b[37m\u001b[0m \u001b[1m0s\u001b[0m 31ms/step - accuracy: 0.6832 - loss: 2.5329 - val_accuracy: 0.6552 - val_loss: 2.3712\n",
      "Epoch 3/20\n",
      "\u001b[1m15/15\u001b[0m \u001b[32m━━━━━━━━━━━━━━━━━━━━\u001b[0m\u001b[37m\u001b[0m \u001b[1m0s\u001b[0m 31ms/step - accuracy: 0.7434 - loss: 1.8747 - val_accuracy: 0.6466 - val_loss: 1.9154\n",
      "Epoch 4/20\n",
      "\u001b[1m15/15\u001b[0m \u001b[32m━━━━━━━━━━━━━━━━━━━━\u001b[0m\u001b[37m\u001b[0m \u001b[1m0s\u001b[0m 30ms/step - accuracy: 0.8067 - loss: 1.4062 - val_accuracy: 0.6379 - val_loss: 1.6048\n",
      "Epoch 5/20\n",
      "\u001b[1m15/15\u001b[0m \u001b[32m━━━━━━━━━━━━━━━━━━━━\u001b[0m\u001b[37m\u001b[0m \u001b[1m0s\u001b[0m 31ms/step - accuracy: 0.8108 - loss: 1.1277 - val_accuracy: 0.6638 - val_loss: 1.3922\n",
      "Epoch 6/20\n",
      "\u001b[1m15/15\u001b[0m \u001b[32m━━━━━━━━━━━━━━━━━━━━\u001b[0m\u001b[37m\u001b[0m \u001b[1m0s\u001b[0m 30ms/step - accuracy: 0.8296 - loss: 0.9346 - val_accuracy: 0.6638 - val_loss: 1.2454\n",
      "Epoch 7/20\n",
      "\u001b[1m15/15\u001b[0m \u001b[32m━━━━━━━━━━━━━━━━━━━━\u001b[0m\u001b[37m\u001b[0m \u001b[1m0s\u001b[0m 30ms/step - accuracy: 0.8545 - loss: 0.7776 - val_accuracy: 0.6810 - val_loss: 1.1241\n",
      "Epoch 8/20\n",
      "\u001b[1m15/15\u001b[0m \u001b[32m━━━━━━━━━━━━━━━━━━━━\u001b[0m\u001b[37m\u001b[0m \u001b[1m0s\u001b[0m 30ms/step - accuracy: 0.8520 - loss: 0.6942 - val_accuracy: 0.7155 - val_loss: 1.0188\n",
      "Epoch 9/20\n",
      "\u001b[1m15/15\u001b[0m \u001b[32m━━━━━━━━━━━━━━━━━━━━\u001b[0m\u001b[37m\u001b[0m \u001b[1m0s\u001b[0m 31ms/step - accuracy: 0.8592 - loss: 0.6108 - val_accuracy: 0.7241 - val_loss: 0.9275\n",
      "Epoch 10/20\n",
      "\u001b[1m15/15\u001b[0m \u001b[32m━━━━━━━━━━━━━━━━━━━━\u001b[0m\u001b[37m\u001b[0m \u001b[1m0s\u001b[0m 30ms/step - accuracy: 0.8928 - loss: 0.5382 - val_accuracy: 0.7414 - val_loss: 0.8791\n",
      "Epoch 11/20\n",
      "\u001b[1m15/15\u001b[0m \u001b[32m━━━━━━━━━━━━━━━━━━━━\u001b[0m\u001b[37m\u001b[0m \u001b[1m0s\u001b[0m 31ms/step - accuracy: 0.8908 - loss: 0.5222 - val_accuracy: 0.7414 - val_loss: 0.8372\n",
      "Epoch 12/20\n",
      "\u001b[1m15/15\u001b[0m \u001b[32m━━━━━━━━━━━━━━━━━━━━\u001b[0m\u001b[37m\u001b[0m \u001b[1m0s\u001b[0m 31ms/step - accuracy: 0.9160 - loss: 0.4642 - val_accuracy: 0.7500 - val_loss: 0.8049\n",
      "Epoch 13/20\n",
      "\u001b[1m15/15\u001b[0m \u001b[32m━━━━━━━━━━━━━━━━━━━━\u001b[0m\u001b[37m\u001b[0m \u001b[1m1s\u001b[0m 72ms/step - accuracy: 0.9159 - loss: 0.4199 - val_accuracy: 0.7586 - val_loss: 0.7577\n",
      "Epoch 14/20\n",
      "\u001b[1m15/15\u001b[0m \u001b[32m━━━━━━━━━━━━━━━━━━━━\u001b[0m\u001b[37m\u001b[0m \u001b[1m0s\u001b[0m 31ms/step - accuracy: 0.9257 - loss: 0.4015 - val_accuracy: 0.7845 - val_loss: 0.7120\n",
      "Epoch 15/20\n",
      "\u001b[1m15/15\u001b[0m \u001b[32m━━━━━━━━━━━━━━━━━━━━\u001b[0m\u001b[37m\u001b[0m \u001b[1m0s\u001b[0m 31ms/step - accuracy: 0.9285 - loss: 0.3556 - val_accuracy: 0.7845 - val_loss: 0.6826\n",
      "Epoch 16/20\n",
      "\u001b[1m15/15\u001b[0m \u001b[32m━━━━━━━━━━━━━━━━━━━━\u001b[0m\u001b[37m\u001b[0m \u001b[1m0s\u001b[0m 30ms/step - accuracy: 0.9388 - loss: 0.3408 - val_accuracy: 0.8103 - val_loss: 0.6552\n",
      "Epoch 17/20\n",
      "\u001b[1m15/15\u001b[0m \u001b[32m━━━━━━━━━━━━━━━━━━━━\u001b[0m\u001b[37m\u001b[0m \u001b[1m0s\u001b[0m 31ms/step - accuracy: 0.9312 - loss: 0.3494 - val_accuracy: 0.8017 - val_loss: 0.6456\n",
      "Epoch 18/20\n",
      "\u001b[1m15/15\u001b[0m \u001b[32m━━━━━━━━━━━━━━━━━━━━\u001b[0m\u001b[37m\u001b[0m \u001b[1m0s\u001b[0m 30ms/step - accuracy: 0.9388 - loss: 0.2935 - val_accuracy: 0.8190 - val_loss: 0.6125\n",
      "Epoch 19/20\n",
      "\u001b[1m15/15\u001b[0m \u001b[32m━━━━━━━━━━━━━━━━━━━━\u001b[0m\u001b[37m\u001b[0m \u001b[1m0s\u001b[0m 30ms/step - accuracy: 0.9338 - loss: 0.2903 - val_accuracy: 0.8448 - val_loss: 0.5962\n",
      "Epoch 20/20\n",
      "\u001b[1m15/15\u001b[0m \u001b[32m━━━━━━━━━━━━━━━━━━━━\u001b[0m\u001b[37m\u001b[0m \u001b[1m0s\u001b[0m 30ms/step - accuracy: 0.9371 - loss: 0.3160 - val_accuracy: 0.8190 - val_loss: 0.6015\n",
      "Restoring model weights from the end of the best epoch: 19.\n"
     ]
    }
   ],
   "source": [
    "import tensorflow as tf\n",
    "from tensorflow.keras.models import model_from_json\n",
    "from tensorflow.keras.optimizers import Adam\n",
    "from tensorflow.keras.callbacks import EarlyStopping\n",
    "\n",
    "# Specify the directory containing the saved model files\n",
    "dir_name = 'TAABLM_model'\n",
    "\n",
    "# 1. Load the model architecture from the saved JSON file\n",
    "with open(os.path.join(dir_name, 'TAABLM_Section_architecture.json'), 'r') as json_file:\n",
    "    model_json = json_file.read()\n",
    "\n",
    "# Recreate the model from the JSON string\n",
    "model = model_from_json(model_json)\n",
    "\n",
    "\n",
    "# 3. Compile the model\n",
    "model.compile(optimizer=Adam(learning_rate=0.001), \n",
    "              loss=\"sparse_categorical_crossentropy\", \n",
    "              metrics=[\"accuracy\"])\n",
    "\n",
    "# 4. Define EarlyStopping callback to avoid overfitting\n",
    "early_stopping = EarlyStopping(\n",
    "    monitor=\"val_loss\", patience=3, restore_best_weights=True, verbose=1\n",
    ")\n",
    "\n",
    "# Train the model\n",
    "history = model.fit(\n",
    "    [X_train, X_tfidf_train],  # Training inputs\n",
    "    y_train,                   # Training labels\n",
    "    validation_data=([X_test, X_tfidf_test], y_test),  # Validation inputs and labels\n",
    "    epochs=20,                 # Number of epochs\n",
    "    batch_size=32,             # Batch size\n",
    "    callbacks=[early_stopping]  # Early stopping callback\n",
    ")"
   ]
  },
  {
   "cell_type": "code",
   "execution_count": 9,
   "id": "ee258c38-6c61-4754-87a7-172fd4cd0001",
   "metadata": {},
   "outputs": [
    {
     "name": "stderr",
     "output_type": "stream",
     "text": [
      "WARNING:absl:You are saving your model as an HDF5 file via `model.save()` or `keras.saving.save_model(model)`. This file format is considered legacy. We recommend using instead the native Keras format, e.g. `model.save('my_model.keras')` or `keras.saving.save_model(model, 'my_model.keras')`. \n"
     ]
    }
   ],
   "source": [
    "# Change the directory\n",
    "new_directory = \"TAABLM_model\"\n",
    "os.chdir(new_directory)\n",
    "\n",
    "# Specify the directory to create\n",
    "dir_name = 'Closure'  # Replace with your desired path\n",
    "\n",
    "# Create the directory\n",
    "os.makedirs(dir_name, exist_ok=True)\n",
    "model.save(os.path.join(dir_name, 'C_Greet.h5'))"
   ]
  }
 ],
 "metadata": {
  "kernelspec": {
   "display_name": "Python3.9(GPU)",
   "language": "python",
   "name": "gpu"
  },
  "language_info": {
   "codemirror_mode": {
    "name": "ipython",
    "version": 3
   },
   "file_extension": ".py",
   "mimetype": "text/x-python",
   "name": "python",
   "nbconvert_exporter": "python",
   "pygments_lexer": "ipython3",
   "version": "3.10.15"
  }
 },
 "nbformat": 4,
 "nbformat_minor": 5
}
