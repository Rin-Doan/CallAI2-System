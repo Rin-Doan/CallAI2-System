{
 "cells": [
  {
   "cell_type": "code",
   "execution_count": 1,
   "id": "0fdd589e-0803-4ed2-ada6-3f2f41bfa692",
   "metadata": {},
   "outputs": [
    {
     "name": "stderr",
     "output_type": "stream",
     "text": [
      "/var/folders/td/w85k3fwn2nn5xffjktw34x_m0000gn/T/ipykernel_84132/4096949599.py:1: DeprecationWarning: Importing display from IPython.core.display is deprecated since IPython 7.14, please import from IPython.display\n",
      "  from IPython.core.display import display, HTML\n"
     ]
    },
    {
     "data": {
      "text/html": [
       "<style>.container { width:85% !important; }</style>"
      ],
      "text/plain": [
       "<IPython.core.display.HTML object>"
      ]
     },
     "metadata": {},
     "output_type": "display_data"
    },
    {
     "name": "stdout",
     "output_type": "stream",
     "text": [
      "/Users/tuongdoanvanngoc/Documents/Y3T3/378/AMS-Project/callai2/MyProject\n"
     ]
    }
   ],
   "source": [
    "from IPython.core.display import display, HTML\n",
    "display(HTML(\"<style>.container { width:85% !important; }</style>\"))\n",
    "\n",
    "import numpy as np\n",
    "import pandas as pd\n",
    "import matplotlib.pyplot as plt\n",
    "import seaborn as sns\n",
    "import random\n",
    "\n",
    "from sklearn.model_selection import train_test_split\n",
    "from sklearn.metrics import mean_squared_error, accuracy_score, confusion_matrix, zero_one_loss\n",
    "from sklearn.preprocessing import LabelEncoder, OneHotEncoder\n",
    "\n",
    "# from sklearn.metrics import plot_confusion_matrix\n",
    "from sklearn.metrics import ConfusionMatrixDisplay\n",
    "\n",
    "import os\n",
    "os.chdir('..')  # Go up one directory level\n",
    "import tensorflow\n",
    "import tensorflow as tf\n",
    "from tensorflow import keras\n",
    "\n",
    "import tensorflow_docs as tfdocs\n",
    "import tensorflow_docs.plots\n",
    "import tensorflow_docs.modeling\n",
    "\n",
    "from tensorflow.keras import layers\n",
    "from tensorflow.keras.layers import Layer, Add, InputSpec, Input, BatchNormalization, Dropout,Conv2D, Conv2DTranspose,AveragePooling2D, MaxPooling2D,Dense, Flatten, Reshape, Concatenate, Embedding, Lambda\n",
    "\n",
    "import tensorflow.keras.backend as K\n",
    "from tensorflow.keras.utils import to_categorical\n",
    "from sklearn.metrics import classification_report\n",
    "from tensorflow.keras import regularizers\n",
    "from tensorflow.keras.callbacks import EarlyStopping\n",
    "from tensorflow.keras.regularizers import l2\n",
    "from tensorflow.keras.layers import Dropout\n",
    "from TAABLM_mechanism import GlobalContextLayer, AttentionMechanism, custom_objects\n",
    "\n",
    "from sklearn.feature_extraction.text import TfidfVectorizer\n",
    "from tensorflow.keras.models import Model\n",
    "from tensorflow.keras.optimizers import Adam\n",
    "from tensorflow.keras.callbacks import LambdaCallback\n",
    "from tensorflow.keras.initializers import RandomNormal\n",
    "\n",
    "!pwd"
   ]
  },
  {
   "cell_type": "code",
   "execution_count": 2,
   "id": "402d593c-abb0-4cec-95c0-4913eb0321dd",
   "metadata": {},
   "outputs": [],
   "source": [
    "from TAABLM_mechanism import GlobalContextLayer, AttentionMechanism, custom_objects\n",
    "from Preprocessing_Data import load_and_preprocess_data, preprocess_texts, load_glove_embeddings"
   ]
  },
  {
   "cell_type": "code",
   "execution_count": 3,
   "id": "9f1eb51a-363a-464d-bcc9-df32d266b189",
   "metadata": {},
   "outputs": [],
   "source": [
    "# datapath = data_dir + 'CallAIDataCorpus2.csv'\n",
    "datapath = 'data/Closure_subsection.csv'\n",
    "\n",
    "data,texts, unique_labels = load_and_preprocess_data(datapath)"
   ]
  },
  {
   "cell_type": "code",
   "execution_count": 4,
   "id": "91934029-5585-45c1-a142-a28eb6953106",
   "metadata": {},
   "outputs": [],
   "source": [
    "# Preprocess texts\n",
    "padded_sequences, tokenizer, X_tfidf, word_index, index_word = preprocess_texts(texts)\n",
    "\n",
    "# Load GloVe embeddings\n",
    "embedding_dim = 50\n",
    "vocab_size = 10000\n",
    "max_seq_len=100\n",
    "\n",
    "embedding_matrix = load_glove_embeddings(vocab_size, embedding_dim, word_index)"
   ]
  },
  {
   "cell_type": "code",
   "execution_count": 5,
   "id": "d81df5e4-e391-4f99-8e1e-28a659cc5ee8",
   "metadata": {},
   "outputs": [],
   "source": [
    "# Assuming data['Text'], data['Category'], and tf_idf_tensor are available\n",
    "X_train, X_test, y_train, y_test = train_test_split(\n",
    "    padded_sequences, data['Express Gratitude'], test_size=0.2, random_state=42\n",
    ")\n",
    "\n",
    "# Split tf_idf_tensor separately to align with X_train and X_test\n",
    "X_tfidf_train, X_tfidf_test = train_test_split(\n",
    "    X_tfidf, test_size=0.2, random_state=42\n",
    ")"
   ]
  },
  {
   "cell_type": "code",
   "execution_count": null,
   "id": "3cf40229-1d02-4cc9-be57-8fceccd333f2",
   "metadata": {},
   "outputs": [],
   "source": []
  }
 ],
 "metadata": {
  "kernelspec": {
   "display_name": "Python3.9(GPU)",
   "language": "python",
   "name": "gpu"
  },
  "language_info": {
   "codemirror_mode": {
    "name": "ipython",
    "version": 3
   },
   "file_extension": ".py",
   "mimetype": "text/x-python",
   "name": "python",
   "nbconvert_exporter": "python",
   "pygments_lexer": "ipython3",
   "version": "3.10.15"
  }
 },
 "nbformat": 4,
 "nbformat_minor": 5
}
