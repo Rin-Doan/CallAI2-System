{
 "cells": [
  {
   "cell_type": "code",
   "execution_count": null,
   "id": "83d376a9-d9a3-4fc3-934e-c70e667f875e",
   "metadata": {},
   "outputs": [
    {
     "name": "stderr",
     "output_type": "stream",
     "text": [
      "/var/folders/td/w85k3fwn2nn5xffjktw34x_m0000gn/T/ipykernel_85044/4096949599.py:1: DeprecationWarning: Importing display from IPython.core.display is deprecated since IPython 7.14, please import from IPython.display\n",
      "  from IPython.core.display import display, HTML\n"
     ]
    },
    {
     "data": {
      "text/html": [
       "<style>.container { width:85% !important; }</style>"
      ],
      "text/plain": [
       "<IPython.core.display.HTML object>"
      ]
     },
     "metadata": {},
     "output_type": "display_data"
    }
   ],
   "source": [
    "from IPython.core.display import display, HTML\n",
    "display(HTML(\"<style>.container { width:85% !important; }</style>\"))\n",
    "\n",
    "import numpy as np\n",
    "import pandas as pd\n",
    "import matplotlib.pyplot as plt\n",
    "import seaborn as sns\n",
    "import random\n",
    "\n",
    "from sklearn.model_selection import train_test_split\n",
    "from sklearn.metrics import mean_squared_error, accuracy_score, confusion_matrix, zero_one_loss\n",
    "from sklearn.preprocessing import LabelEncoder, OneHotEncoder\n",
    "\n",
    "# from sklearn.metrics import plot_confusion_matrix\n",
    "from sklearn.metrics import ConfusionMatrixDisplay\n",
    "\n",
    "import os\n",
    "os.chdir('..')  # Go up one directory level\n",
    "import tensorflow\n",
    "import tensorflow as tf\n",
    "from tensorflow import keras\n",
    "\n",
    "import tensorflow_docs as tfdocs\n",
    "import tensorflow_docs.plots\n",
    "import tensorflow_docs.modeling\n",
    "\n",
    "from tensorflow.keras import layers\n",
    "from tensorflow.keras.layers import Layer, Add, InputSpec, Input, BatchNormalization, Dropout,Conv2D, Conv2DTranspose,AveragePooling2D, MaxPooling2D,Dense, Flatten, Reshape, Concatenate, Embedding, Lambda\n",
    "\n",
    "import tensorflow.keras.backend as K\n",
    "from tensorflow.keras.utils import to_categorical\n",
    "from sklearn.metrics import classification_report\n",
    "from tensorflow.keras import regularizers\n",
    "from tensorflow.keras.callbacks import EarlyStopping\n",
    "from tensorflow.keras.regularizers import l2\n",
    "from tensorflow.keras.layers import Dropout\n",
    "from TAABLM_mechanism import GlobalContextLayer, AttentionMechanism, custom_objects\n",
    "\n",
    "from sklearn.feature_extraction.text import TfidfVectorizer\n",
    "from tensorflow.keras.models import Model\n",
    "from tensorflow.keras.optimizers import Adam\n",
    "from tensorflow.keras.callbacks import LambdaCallback\n",
    "from tensorflow.keras.initializers import RandomNormal\n",
    "\n",
    "!pwd"
   ]
  },
  {
   "cell_type": "code",
   "execution_count": null,
   "id": "ac74f3a5-52f5-4de3-911a-14e7af9aaf05",
   "metadata": {},
   "outputs": [],
   "source": [
    "from TAABLM_mechanism import GlobalContextLayer, AttentionMechanism, custom_objects\n",
    "from Preprocessing_Data import load_and_preprocess_data, preprocess_texts, load_glove_embeddings"
   ]
  },
  {
   "cell_type": "code",
   "execution_count": null,
   "id": "14326640-91ea-45d2-9296-07e8eaa6248b",
   "metadata": {},
   "outputs": [],
   "source": [
    "# datapath = data_dir + 'CallAIDataCorpus2.csv'\n",
    "datapath = 'data/Account_Verification_subsection.csv'\n",
    "\n",
    "data,texts, unique_labels = load_and_preprocess_data(datapath)"
   ]
  },
  {
   "cell_type": "code",
   "execution_count": null,
   "id": "b8e8c560-4b3f-4c1c-84b5-7adfa2cb77b6",
   "metadata": {},
   "outputs": [],
   "source": [
    "# Preprocess texts\n",
    "padded_sequences, tokenizer, X_tfidf, word_index, index_word = preprocess_texts(texts)\n",
    "\n",
    "# Load GloVe embeddings\n",
    "embedding_dim = 50\n",
    "vocab_size = 10000\n",
    "max_seq_len=100\n",
    "\n",
    "embedding_matrix = load_glove_embeddings(vocab_size, embedding_dim, word_index)"
   ]
  },
  {
   "cell_type": "code",
   "execution_count": null,
   "id": "04b1ae94-b976-4ed9-af18-e22019e4282a",
   "metadata": {},
   "outputs": [],
   "source": [
    "# Assuming data['Text'], data['Category'], and tf_idf_tensor are available\n",
    "X_train, X_test, y_train, y_test = train_test_split(\n",
    "    padded_sequences, data['Account and Transaction Details'], test_size=0.2, random_state=42\n",
    ")\n",
    "\n",
    "# Split tf_idf_tensor separately to align with X_train and X_test\n",
    "X_tfidf_train, X_tfidf_test = train_test_split(\n",
    "    X_tfidf, test_size=0.2, random_state=42\n",
    ")"
   ]
  },
  {
   "cell_type": "code",
   "execution_count": null,
   "id": "5133fe6e-0362-4403-a17b-2e9ed947136f",
   "metadata": {},
   "outputs": [],
   "source": [
    "import tensorflow as tf\n",
    "from tensorflow.keras.models import model_from_json\n",
    "from tensorflow.keras.optimizers import Adam\n",
    "from tensorflow.keras.callbacks import EarlyStopping\n",
    "\n",
    "# Specify the directory containing the saved model files\n",
    "dir_name = 'TAABLM_model'\n",
    "\n",
    "# 1. Load the model architecture from the saved JSON file\n",
    "with open(os.path.join(dir_name, 'TAABLM_Section_architecture.json'), 'r') as json_file:\n",
    "    model_json = json_file.read()\n",
    "\n",
    "# Recreate the model from the JSON string\n",
    "model = model_from_json(model_json)\n",
    "\n",
    "\n",
    "# 3. Compile the model\n",
    "model.compile(optimizer=Adam(learning_rate=0.001), \n",
    "              loss=\"sparse_categorical_crossentropy\", \n",
    "              metrics=[\"accuracy\"])\n",
    "\n",
    "# 4. Define EarlyStopping callback to avoid overfitting\n",
    "early_stopping = EarlyStopping(\n",
    "    monitor=\"val_loss\", patience=3, restore_best_weights=True, verbose=1\n",
    ")\n",
    "\n",
    "# Train the model\n",
    "history = model.fit(\n",
    "    [X_train, X_tfidf_train],  # Training inputs\n",
    "    y_train,                   # Training labels\n",
    "    validation_data=([X_test, X_tfidf_test], y_test),  # Validation inputs and labels\n",
    "    epochs=30,                 # Number of epochs\n",
    "    batch_size=32,             # Batch size\n",
    "    callbacks=[early_stopping]  # Early stopping callback\n",
    ")"
   ]
  },
  {
   "cell_type": "code",
   "execution_count": null,
   "id": "eaea0bcd-d8a1-471f-8261-bd779aa26113",
   "metadata": {},
   "outputs": [],
   "source": []
  }
 ],
 "metadata": {
  "kernelspec": {
   "display_name": "Python3.9(GPU)",
   "language": "python",
   "name": "gpu"
  },
  "language_info": {
   "codemirror_mode": {
    "name": "ipython",
    "version": 3
   },
   "file_extension": ".py",
   "mimetype": "text/x-python",
   "name": "python",
   "nbconvert_exporter": "python",
   "pygments_lexer": "ipython3",
   "version": "3.10.15"
  }
 },
 "nbformat": 4,
 "nbformat_minor": 5
}
