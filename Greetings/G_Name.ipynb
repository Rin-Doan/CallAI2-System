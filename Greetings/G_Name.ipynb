{
 "cells": [
  {
   "cell_type": "code",
   "execution_count": 1,
   "id": "1e4f1295-7cf5-4e06-8d6e-57f5f6721f5e",
   "metadata": {},
   "outputs": [
    {
     "name": "stderr",
     "output_type": "stream",
     "text": [
      "/var/folders/td/w85k3fwn2nn5xffjktw34x_m0000gn/T/ipykernel_74677/4096949599.py:1: DeprecationWarning: Importing display from IPython.core.display is deprecated since IPython 7.14, please import from IPython.display\n",
      "  from IPython.core.display import display, HTML\n"
     ]
    },
    {
     "data": {
      "text/html": [
       "<style>.container { width:85% !important; }</style>"
      ],
      "text/plain": [
       "<IPython.core.display.HTML object>"
      ]
     },
     "metadata": {},
     "output_type": "display_data"
    },
    {
     "name": "stdout",
     "output_type": "stream",
     "text": [
      "/Users/tuongdoanvanngoc/Documents/Y3T3/378/AMS-Project/callai2/MyProject\n"
     ]
    }
   ],
   "source": [
    "from IPython.core.display import display, HTML\n",
    "display(HTML(\"<style>.container { width:85% !important; }</style>\"))\n",
    "\n",
    "import numpy as np\n",
    "import pandas as pd\n",
    "import matplotlib.pyplot as plt\n",
    "import seaborn as sns\n",
    "import random\n",
    "\n",
    "from sklearn.model_selection import train_test_split\n",
    "from sklearn.metrics import mean_squared_error, accuracy_score, confusion_matrix, zero_one_loss\n",
    "from sklearn.preprocessing import LabelEncoder, OneHotEncoder\n",
    "\n",
    "# from sklearn.metrics import plot_confusion_matrix\n",
    "from sklearn.metrics import ConfusionMatrixDisplay\n",
    "\n",
    "import os\n",
    "os.chdir('..')  # Go up one directory level\n",
    "import tensorflow\n",
    "import tensorflow as tf\n",
    "from tensorflow import keras\n",
    "\n",
    "import tensorflow_docs as tfdocs\n",
    "import tensorflow_docs.plots\n",
    "import tensorflow_docs.modeling\n",
    "\n",
    "from tensorflow.keras import layers\n",
    "from tensorflow.keras.layers import Layer, Add, InputSpec, Input, BatchNormalization, Dropout,Conv2D, Conv2DTranspose,AveragePooling2D, MaxPooling2D,Dense, Flatten, Reshape, Concatenate, Embedding, Lambda\n",
    "\n",
    "import tensorflow.keras.backend as K\n",
    "from tensorflow.keras.utils import to_categorical\n",
    "from sklearn.metrics import classification_report\n",
    "from tensorflow.keras import regularizers\n",
    "from tensorflow.keras.callbacks import EarlyStopping\n",
    "from tensorflow.keras.regularizers import l2\n",
    "from tensorflow.keras.layers import Dropout\n",
    "from TAABLM_mechanism import GlobalContextLayer, AttentionMechanism, custom_objects\n",
    "\n",
    "from sklearn.feature_extraction.text import TfidfVectorizer\n",
    "from tensorflow.keras.models import Model\n",
    "from tensorflow.keras.optimizers import Adam\n",
    "from tensorflow.keras.callbacks import LambdaCallback\n",
    "from tensorflow.keras.initializers import RandomNormal\n",
    "\n",
    "!pwd"
   ]
  },
  {
   "cell_type": "code",
   "execution_count": 2,
   "id": "cd9c6c3f-82b1-4bb5-aed8-cc5e59d23f6b",
   "metadata": {},
   "outputs": [],
   "source": [
    "from TAABLM_mechanism import GlobalContextLayer, AttentionMechanism, custom_objects\n",
    "from Preprocessing_Data import load_and_preprocess_data, preprocess_texts, load_glove_embeddings"
   ]
  },
  {
   "cell_type": "code",
   "execution_count": 3,
   "id": "75f1043a-9d39-458c-ba4c-00777ab273d0",
   "metadata": {},
   "outputs": [],
   "source": [
    "# datapath = data_dir + 'CallAIDataCorpus2.csv'\n",
    "datapath = 'data/Greetings_subsection.csv'\n",
    "\n",
    "data,texts, unique_labels = load_and_preprocess_data(datapath)"
   ]
  },
  {
   "cell_type": "code",
   "execution_count": 4,
   "id": "73b0c23f-80e9-46bf-ad75-c343571fb780",
   "metadata": {},
   "outputs": [],
   "source": [
    "# Preprocess texts\n",
    "padded_sequences, tokenizer, X_tfidf, word_index, index_word = preprocess_texts(texts)\n",
    "\n",
    "# Load GloVe embeddings\n",
    "embedding_dim = 50\n",
    "vocab_size = 10000\n",
    "max_seq_len=100\n",
    "\n",
    "embedding_matrix = load_glove_embeddings(vocab_size, embedding_dim, word_index)"
   ]
  },
  {
   "cell_type": "code",
   "execution_count": 6,
   "id": "d005e155-6613-4672-885f-cfada5ccadde",
   "metadata": {},
   "outputs": [],
   "source": [
    "# Assuming data['Text'], data['Category'], and tf_idf_tensor are available\n",
    "X_train, X_test, y_train, y_test = train_test_split(\n",
    "    padded_sequences, data['Ask the name of the person calling'], test_size=0.2, random_state=42\n",
    ")\n",
    "\n",
    "# Split tf_idf_tensor separately to align with X_train and X_test\n",
    "X_tfidf_train, X_tfidf_test = train_test_split(\n",
    "    X_tfidf, test_size=0.2, random_state=42\n",
    ")"
   ]
  },
  {
   "cell_type": "code",
   "execution_count": 11,
   "id": "dd09eba2-be99-40e4-9694-7bf7b3d92c20",
   "metadata": {},
   "outputs": [
    {
     "name": "stdout",
     "output_type": "stream",
     "text": [
      "Epoch 1/10\n",
      "\u001b[1m12/12\u001b[0m \u001b[32m━━━━━━━━━━━━━━━━━━━━\u001b[0m\u001b[37m\u001b[0m \u001b[1m3s\u001b[0m 101ms/step - accuracy: 0.5020 - loss: 3.3261 - val_accuracy: 0.7789 - val_loss: 3.0147\n",
      "Epoch 2/10\n",
      "\u001b[1m12/12\u001b[0m \u001b[32m━━━━━━━━━━━━━━━━━━━━\u001b[0m\u001b[37m\u001b[0m \u001b[1m0s\u001b[0m 34ms/step - accuracy: 0.8180 - loss: 2.4785 - val_accuracy: 0.7789 - val_loss: 2.4775\n",
      "Epoch 3/10\n",
      "\u001b[1m12/12\u001b[0m \u001b[32m━━━━━━━━━━━━━━━━━━━━\u001b[0m\u001b[37m\u001b[0m \u001b[1m0s\u001b[0m 32ms/step - accuracy: 0.8355 - loss: 1.7684 - val_accuracy: 0.7789 - val_loss: 2.0086\n",
      "Epoch 4/10\n",
      "\u001b[1m12/12\u001b[0m \u001b[32m━━━━━━━━━━━━━━━━━━━━\u001b[0m\u001b[37m\u001b[0m \u001b[1m0s\u001b[0m 32ms/step - accuracy: 0.8989 - loss: 1.3049 - val_accuracy: 0.7789 - val_loss: 1.6294\n",
      "Epoch 5/10\n",
      "\u001b[1m12/12\u001b[0m \u001b[32m━━━━━━━━━━━━━━━━━━━━\u001b[0m\u001b[37m\u001b[0m \u001b[1m0s\u001b[0m 33ms/step - accuracy: 0.9305 - loss: 0.9913 - val_accuracy: 0.7789 - val_loss: 1.3246\n",
      "Epoch 6/10\n",
      "\u001b[1m12/12\u001b[0m \u001b[32m━━━━━━━━━━━━━━━━━━━━\u001b[0m\u001b[37m\u001b[0m \u001b[1m0s\u001b[0m 33ms/step - accuracy: 0.9363 - loss: 0.7270 - val_accuracy: 0.7684 - val_loss: 1.1208\n",
      "Epoch 7/10\n",
      "\u001b[1m12/12\u001b[0m \u001b[32m━━━━━━━━━━━━━━━━━━━━\u001b[0m\u001b[37m\u001b[0m \u001b[1m0s\u001b[0m 33ms/step - accuracy: 0.9604 - loss: 0.6093 - val_accuracy: 0.7684 - val_loss: 1.0061\n",
      "Epoch 8/10\n",
      "\u001b[1m12/12\u001b[0m \u001b[32m━━━━━━━━━━━━━━━━━━━━\u001b[0m\u001b[37m\u001b[0m \u001b[1m0s\u001b[0m 32ms/step - accuracy: 0.9348 - loss: 0.5446 - val_accuracy: 0.7789 - val_loss: 0.9123\n",
      "Epoch 9/10\n",
      "\u001b[1m12/12\u001b[0m \u001b[32m━━━━━━━━━━━━━━━━━━━━\u001b[0m\u001b[37m\u001b[0m \u001b[1m0s\u001b[0m 32ms/step - accuracy: 0.9567 - loss: 0.4798 - val_accuracy: 0.7789 - val_loss: 0.8360\n",
      "Epoch 10/10\n",
      "\u001b[1m12/12\u001b[0m \u001b[32m━━━━━━━━━━━━━━━━━━━━\u001b[0m\u001b[37m\u001b[0m \u001b[1m1s\u001b[0m 69ms/step - accuracy: 0.9762 - loss: 0.3801 - val_accuracy: 0.8421 - val_loss: 0.7791\n",
      "Restoring model weights from the end of the best epoch: 10.\n"
     ]
    }
   ],
   "source": [
    "import tensorflow as tf\n",
    "from tensorflow.keras.models import model_from_json\n",
    "from tensorflow.keras.optimizers import Adam\n",
    "from tensorflow.keras.callbacks import EarlyStopping\n",
    "\n",
    "# Specify the directory containing the saved model files\n",
    "dir_name = 'TAABLM_model'\n",
    "\n",
    "# 1. Load the model architecture from the saved JSON file\n",
    "with open(os.path.join(dir_name, 'TAABLM_Section_architecture.json'), 'r') as json_file:\n",
    "    model_json = json_file.read()\n",
    "\n",
    "# Recreate the model from the JSON string\n",
    "model = model_from_json(model_json)\n",
    "\n",
    "\n",
    "# 3. Compile the model\n",
    "model.compile(optimizer=Adam(learning_rate=0.001), \n",
    "              loss=\"sparse_categorical_crossentropy\", \n",
    "              metrics=[\"accuracy\"])\n",
    "\n",
    "# 4. Define EarlyStopping callback to avoid overfitting\n",
    "early_stopping = EarlyStopping(\n",
    "    monitor=\"val_loss\", patience=3, restore_best_weights=True, verbose=1\n",
    ")\n",
    "\n",
    "# Train the model\n",
    "history = model.fit(\n",
    "    [X_train, X_tfidf_train],  # Training inputs\n",
    "    y_train,                   # Training labels\n",
    "    validation_data=([X_test, X_tfidf_test], y_test),  # Validation inputs and labels\n",
    "    epochs=10,                 # Number of epochs\n",
    "    batch_size=32,             # Batch size\n",
    "    callbacks=[early_stopping]  # Early stopping callback\n",
    ")"
   ]
  },
  {
   "cell_type": "code",
   "execution_count": 12,
   "id": "88aa1ebc-5932-4eb4-abf5-33c582474aeb",
   "metadata": {},
   "outputs": [
    {
     "name": "stderr",
     "output_type": "stream",
     "text": [
      "WARNING:absl:You are saving your model as an HDF5 file via `model.save()` or `keras.saving.save_model(model)`. This file format is considered legacy. We recommend using instead the native Keras format, e.g. `model.save('my_model.keras')` or `keras.saving.save_model(model, 'my_model.keras')`. \n"
     ]
    }
   ],
   "source": [
    "# Change the directory\n",
    "new_directory = \"TAABLM_model\"\n",
    "os.chdir(new_directory)\n",
    "\n",
    "# Specify the directory to create\n",
    "dir_name = 'Greetings'  # Replace with your desired path\n",
    "\n",
    "# Create the directory\n",
    "os.makedirs(dir_name, exist_ok=True)\n",
    "model.save(os.path.join(dir_name, 'G_Name.h5'))"
   ]
  }
 ],
 "metadata": {
  "kernelspec": {
   "display_name": "Python3.9(GPU)",
   "language": "python",
   "name": "gpu"
  },
  "language_info": {
   "codemirror_mode": {
    "name": "ipython",
    "version": 3
   },
   "file_extension": ".py",
   "mimetype": "text/x-python",
   "name": "python",
   "nbconvert_exporter": "python",
   "pygments_lexer": "ipython3",
   "version": "3.10.15"
  }
 },
 "nbformat": 4,
 "nbformat_minor": 5
}
